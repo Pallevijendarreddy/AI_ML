{
 "cells": [
  {
   "cell_type": "code",
   "execution_count": 1,
   "id": "abcb6d37-6bcc-443c-a6b2-f9770687865f",
   "metadata": {},
   "outputs": [
    {
     "name": "stdout",
     "output_type": "stream",
     "text": [
      "Error fetching historical data: []\n",
      "               Timestamp   XRP Price\n",
      "0    2024-10-18 00:00:00  0.54430000\n",
      "1    2024-10-18 00:01:00  0.54430000\n",
      "2    2024-10-18 00:02:00  0.54500000\n",
      "3    2024-10-18 00:03:00  0.54570000\n",
      "4    2024-10-18 00:04:00  0.54580000\n",
      "...                  ...         ...\n",
      "3905 2024-10-20 17:05:00  0.53910000\n",
      "3906 2024-10-20 17:06:00  0.53910000\n",
      "3907 2024-10-20 17:07:00  0.53910000\n",
      "3908 2024-10-20 17:08:00  0.53910000\n",
      "3909 2024-10-20 17:09:00  0.53910000\n",
      "\n",
      "[3910 rows x 2 columns]\n",
      "Data saved to xrp_data_2024-10-18_to_2024-10-21_gulf_time.csv\n"
     ]
    }
   ],
   "source": [
    "import requests\n",
    "import pandas as pd\n",
    "from datetime import datetime, timedelta\n",
    "\n",
    "def fetch_historical_xrp_data(from_date, to_date):\n",
    "    # Define parameters\n",
    "    symbol = \"XRPUSDT\"\n",
    "    interval = \"1m\"\n",
    "    \n",
    "    # Convert from_date and to_date to timestamp in milliseconds (UTC)\n",
    "    start_time = int(datetime.strptime(from_date, \"%Y-%m-%d\").replace(hour=0, minute=0, second=0, microsecond=0).timestamp() * 1000)\n",
    "    end_time = int(datetime.strptime(to_date, \"%Y-%m-%d\").replace(hour=23, minute=59, second=59, microsecond=999).timestamp() * 1000)\n",
    "\n",
    "    # Initialize a list to hold all data\n",
    "    all_data = []\n",
    "\n",
    "    # Fetch historical data in chunks\n",
    "    while start_time < end_time:\n",
    "        url = f\"https://api.binance.com/api/v3/klines?symbol={symbol}&interval={interval}&startTime={start_time}&endTime={end_time}&limit=1000\"\n",
    "        response = requests.get(url)\n",
    "        data = response.json()\n",
    "\n",
    "        if not data or isinstance(data, dict) and 'msg' in data:  # Check for error messages\n",
    "            print(\"Error fetching historical data:\", data)\n",
    "            break\n",
    "\n",
    "        all_data.extend(data)\n",
    "\n",
    "        # Update start_time to the last timestamp fetched\n",
    "        start_time = int(data[-1][6]) + 1  # Move to the next minute after the last data point's Close Time\n",
    "\n",
    "    # Prepare DataFrame\n",
    "    df = pd.DataFrame(all_data, columns=[\"Open Time\", \"Open\", \"High\", \"Low\", \"Close\", \"Volume\", \n",
    "                                          \"Close Time\", \"Quote Asset Volume\", \"Number of Trades\", \n",
    "                                          \"Taker Buy Base Asset Volume\", \"Taker Buy Quote Asset Volume\", \"Ignore\"])\n",
    "\n",
    "    # Convert Open Time to readable format (UTC)\n",
    "    df[\"Open Time\"] = pd.to_datetime(df[\"Open Time\"], unit='ms')\n",
    "\n",
    "    # Convert UTC to Gulf Time (UTC+4)\n",
    "    df[\"Open Time\"] = df[\"Open Time\"] + timedelta(hours=4)\n",
    "\n",
    "    # Select relevant columns\n",
    "    df = df[[\"Open Time\", \"Close\"]].rename(columns={\"Open Time\": \"Timestamp\", \"Close\": \"XRP Price\"})\n",
    "\n",
    "    # Filter data to only include rows between the specified dates (optional, if additional filtering is needed)\n",
    "    df_filtered = df[(df[\"Timestamp\"].dt.date >= pd.to_datetime(from_date).date()) &\n",
    "                     (df[\"Timestamp\"].dt.date <= pd.to_datetime(to_date).date())]\n",
    "\n",
    "    # Print the filtered data\n",
    "    print(df_filtered)\n",
    "\n",
    "    # Save to CSV (optional)\n",
    "    file_path = f\"xrp_data_{from_date}_to_{to_date}_gulf_time.csv\"\n",
    "    df_filtered.to_csv(file_path, index=False)\n",
    "    print(f\"Data saved to {file_path}\")\n",
    "\n",
    "# Example usage\n",
    "fetch_historical_xrp_data(from_date=\"2024-10-18\", to_date=\"2024-10-21\")\n"
   ]
  },
  {
   "cell_type": "code",
   "execution_count": null,
   "id": "52a7c654-3aa1-4b5e-a6e3-c46881ccc72f",
   "metadata": {},
   "outputs": [],
   "source": []
  }
 ],
 "metadata": {
  "kernelspec": {
   "display_name": "Python 3 (ipykernel)",
   "language": "python",
   "name": "python3"
  },
  "language_info": {
   "codemirror_mode": {
    "name": "ipython",
    "version": 3
   },
   "file_extension": ".py",
   "mimetype": "text/x-python",
   "name": "python",
   "nbconvert_exporter": "python",
   "pygments_lexer": "ipython3",
   "version": "3.12.4"
  }
 },
 "nbformat": 4,
 "nbformat_minor": 5
}
