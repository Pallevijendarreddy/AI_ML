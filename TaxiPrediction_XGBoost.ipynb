{
 "cells": [
  {
   "cell_type": "code",
   "execution_count": 1,
   "id": "6480ebe8-a73c-4925-aed1-50bac822e59e",
   "metadata": {},
   "outputs": [
    {
     "name": "stdout",
     "output_type": "stream",
     "text": [
      "   event_date  hour  minute  community_id      community_name  picks  drops\n",
      "0  2024-05-06    14      16         318.0           AL KARAMA    222    222\n",
      "1  2024-05-06    23      22         922.0        AL YALAYIS 2     24      6\n",
      "2  2024-05-22    11      46         369.0  AL QOUZ IND.FOURTH      1      0\n",
      "3  2024-05-13     9      50         119.0            AL RIGGA      1      1\n",
      "4  2024-05-07    12      46         264.0   MUHAISANAH SECOND      1      0\n"
     ]
    }
   ],
   "source": [
    "import pandas as pd\n",
    "\n",
    "# Load the data\n",
    "file_path = r'E:\\Data_Practice\\Taxi.csv'\n",
    "df = pd.read_csv(file_path)\n",
    "\n",
    "# Display the first few rows\n",
    "print(df.head())\n"
   ]
  },
  {
   "cell_type": "code",
   "execution_count": 2,
   "id": "8292ea8b-cebf-4f93-b809-6b47b50e7a57",
   "metadata": {},
   "outputs": [
    {
     "name": "stdout",
     "output_type": "stream",
     "text": [
      "<class 'pandas.core.frame.DataFrame'>\n",
      "RangeIndex: 3236905 entries, 0 to 3236904\n",
      "Data columns (total 5 columns):\n",
      " #   Column          Dtype         \n",
      "---  ------          -----         \n",
      " 0   community_id    float64       \n",
      " 1   community_name  object        \n",
      " 2   picks           int64         \n",
      " 3   drops           int64         \n",
      " 4   datetime        datetime64[ns]\n",
      "dtypes: datetime64[ns](1), float64(1), int64(2), object(1)\n",
      "memory usage: 123.5+ MB\n",
      "None\n"
     ]
    }
   ],
   "source": [
    "# Convert event_date, hour, and minute to a datetime column\n",
    "df['datetime'] = pd.to_datetime(df['event_date'] + ' ' + df['hour'].astype(str) + ':' + df['minute'].astype(str))\n",
    "\n",
    "# Drop the original date, hour, and minute columns (if no longer needed)\n",
    "df.drop(['event_date', 'hour', 'minute'], axis=1, inplace=True)\n",
    "\n",
    "# Handling missing values if any\n",
    "df.fillna(0, inplace=True)\n",
    "\n",
    "# Check the data types and ensure everything is correct\n",
    "print(df.info())\n"
   ]
  },
  {
   "cell_type": "code",
   "execution_count": 3,
   "id": "c1cc7667-d819-4a37-b89d-b5fe43f273f1",
   "metadata": {},
   "outputs": [
    {
     "name": "stdout",
     "output_type": "stream",
     "text": [
      "    community_id                     community_name  picks  drops  \\\n",
      "60         115.0                          AL SABKHA      0      2   \n",
      "61         412.0                         AL KHEERAN      2      1   \n",
      "62         352.0                      JUMEIRA THIRD      0      1   \n",
      "63         324.0                           AL KIFAF      2      0   \n",
      "64         631.0  HADAEQ SHEIKH MOHAMMED BIN RASHID     43     25   \n",
      "\n",
      "              datetime  hour  day_of_week  is_weekend  lag_1  lag_60  \n",
      "60 2024-05-02 18:21:00    18            3           0   11.0   222.0  \n",
      "61 2024-05-09 19:35:00    19            3           0    0.0    24.0  \n",
      "62 2024-05-11 00:36:00     0            5           1    2.0     1.0  \n",
      "63 2024-05-30 07:27:00     7            3           0    0.0     1.0  \n",
      "64 2024-05-06 06:20:00     6            0           0    2.0     1.0  \n"
     ]
    }
   ],
   "source": [
    "# Feature engineering: Create time-based features\n",
    "df['hour'] = df['datetime'].dt.hour\n",
    "df['day_of_week'] = df['datetime'].dt.dayofweek\n",
    "df['is_weekend'] = df['day_of_week'].apply(lambda x: 1 if x >= 5 else 0)\n",
    "\n",
    "# Create lag features (for predicting pickups based on previous minutes)\n",
    "df['lag_1'] = df['picks'].shift(1)\n",
    "df['lag_60'] = df['picks'].shift(60)  # Lag by 60 minutes\n",
    "\n",
    "# Drop NA values created by lag features\n",
    "df.dropna(inplace=True)\n",
    "\n",
    "# Check the updated dataframe\n",
    "print(df.head())\n"
   ]
  },
  {
   "cell_type": "code",
   "execution_count": 4,
   "id": "b0557fd0-fa95-41db-a1aa-9e3f75bb9282",
   "metadata": {},
   "outputs": [
    {
     "name": "stdout",
     "output_type": "stream",
     "text": [
      "(2589476, 5) (647369, 5)\n"
     ]
    }
   ],
   "source": [
    "from sklearn.model_selection import train_test_split\n",
    "\n",
    "# Define your features (X) and target (y)\n",
    "X = df[['hour', 'day_of_week', 'is_weekend', 'lag_1', 'lag_60']]\n",
    "y = df['picks']\n",
    "\n",
    "# Split the data into training and testing sets (train on past data, test on the current day)\n",
    "X_train, X_test, y_train, y_test = train_test_split(X, y, test_size=0.2, shuffle=False)\n",
    "\n",
    "# Check the shapes of the train/test sets\n",
    "print(X_train.shape, X_test.shape)\n"
   ]
  },
  {
   "cell_type": "code",
   "execution_count": 7,
   "id": "922da766-49a8-4c63-b2d5-999c3c734a7e",
   "metadata": {},
   "outputs": [
    {
     "name": "stdout",
     "output_type": "stream",
     "text": [
      "Requirement already satisfied: xgboost in c:\\users\\vjred\\anaconda3\\lib\\site-packages (2.1.1)\n",
      "Requirement already satisfied: numpy in c:\\users\\vjred\\anaconda3\\lib\\site-packages (from xgboost) (1.26.4)\n",
      "Requirement already satisfied: scipy in c:\\users\\vjred\\anaconda3\\lib\\site-packages (from xgboost) (1.13.1)\n",
      "Note: you may need to restart the kernel to use updated packages.\n"
     ]
    }
   ],
   "source": [
    "pip install xgboost"
   ]
  },
  {
   "cell_type": "code",
   "execution_count": 8,
   "id": "d0872ce8-de30-48f5-b6d0-ca86ea3af4a5",
   "metadata": {},
   "outputs": [
    {
     "name": "stdout",
     "output_type": "stream",
     "text": [
      "[2.8448215 2.5210261 6.1964736 ... 3.170137  2.7183354 1.9609233]\n"
     ]
    }
   ],
   "source": [
    "import xgboost as xgb\n",
    "\n",
    "# Initialize the model\n",
    "model = xgb.XGBRegressor()\n",
    "\n",
    "# Train the model\n",
    "model.fit(X_train, y_train)\n",
    "\n",
    "# Predict the pickups for the current day\n",
    "predictions = model.predict(X_test)\n",
    "\n",
    "# Display the predictions\n",
    "print(predictions)\n"
   ]
  },
  {
   "cell_type": "code",
   "execution_count": 10,
   "id": "b5bfab8b-9615-4051-8fbe-0472f8bac080",
   "metadata": {},
   "outputs": [
    {
     "name": "stdout",
     "output_type": "stream",
     "text": [
      "MAE: 7.395148410266548, RMSE: 27.65664760648458\n"
     ]
    }
   ],
   "source": [
    "from sklearn.metrics import root_mean_squared_error\n",
    "# Calculate and print the evaluation metrics\n",
    "mae = mean_absolute_error(y_test, predictions)\n",
    "rmse = root_mean_squared_error(y_test, predictions)\n",
    "\n",
    "print(f\"MAE: {mae}, RMSE: {rmse}\")\n"
   ]
  },
  {
   "cell_type": "code",
   "execution_count": 12,
   "id": "e7312f84-72a3-4681-920a-dd3902c9e310",
   "metadata": {},
   "outputs": [
    {
     "name": "stdout",
     "output_type": "stream",
     "text": [
      "Predictions saved to E:\\Data_Practice\\Taxi_Predictions.csv\n"
     ]
    }
   ],
   "source": [
    "import pandas as pd\n",
    "\n",
    "# Assuming you have the original dataframe 'df' which includes community info\n",
    "# We will merge the community information with the predictions\n",
    "\n",
    "# Recreate the 'X_test' to include community information (like community_name)\n",
    "X_test['community_id'] = df['community_id'].loc[y_test.index]\n",
    "X_test['community_name'] = df['community_name'].loc[y_test.index]\n",
    "\n",
    "# Add actual and predicted values to the test DataFrame\n",
    "X_test['actual_picks'] = y_test\n",
    "X_test['predicted_picks'] = predictions\n",
    "\n",
    "# Save the DataFrame to CSV\n",
    "save_path = r'E:\\Data_Practice\\Taxi_Predictions.csv'\n",
    "X_test.to_csv(save_path, index=False)\n",
    "\n",
    "print(f\"Predictions saved to {save_path}\")\n"
   ]
  },
  {
   "cell_type": "code",
   "execution_count": null,
   "id": "effc4edf-55d2-4dec-88c8-375123ca40de",
   "metadata": {},
   "outputs": [],
   "source": []
  }
 ],
 "metadata": {
  "kernelspec": {
   "display_name": "Python 3 (ipykernel)",
   "language": "python",
   "name": "python3"
  },
  "language_info": {
   "codemirror_mode": {
    "name": "ipython",
    "version": 3
   },
   "file_extension": ".py",
   "mimetype": "text/x-python",
   "name": "python",
   "nbconvert_exporter": "python",
   "pygments_lexer": "ipython3",
   "version": "3.12.4"
  }
 },
 "nbformat": 4,
 "nbformat_minor": 5
}
